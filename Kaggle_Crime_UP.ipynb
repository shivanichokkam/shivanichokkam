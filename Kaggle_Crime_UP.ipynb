{
  "nbformat": 4,
  "nbformat_minor": 0,
  "metadata": {
    "colab": {
      "name": "Kaggle_Crime_UP.ipynb",
      "provenance": [],
      "authorship_tag": "ABX9TyNiGr937PzR9SH2hqN/92Gz",
      "include_colab_link": true
    },
    "kernelspec": {
      "name": "python3",
      "display_name": "Python 3"
    },
    "language_info": {
      "name": "python"
    }
  },
  "cells": [
    {
      "cell_type": "markdown",
      "metadata": {
        "id": "view-in-github",
        "colab_type": "text"
      },
      "source": [
        "<a href=\"https://colab.research.google.com/github/shivanichokkam/shivanichokkam/blob/main/Kaggle_Crime_UP.ipynb\" target=\"_parent\"><img src=\"https://colab.research.google.com/assets/colab-badge.svg\" alt=\"Open In Colab\"/></a>"
      ]
    },
    {
      "cell_type": "code",
      "metadata": {
        "id": "_aXiiyc4oUB7"
      },
      "source": [
        "import numpy as np\n",
        "import pandas as pd\n",
        "import seaborn as sns\n",
        "from sklearn.model_selection import train_test_split\n",
        "from sklearn import svm \n",
        "from sklearn.metrics import accuracy_score\n",
        "import matplotlib.pyplot as plt"
      ],
      "execution_count": null,
      "outputs": []
    },
    {
      "cell_type": "code",
      "metadata": {
        "id": "BLJT21P7pK-O"
      },
      "source": [
        "#loading the dataset into the pandas dataset \n",
        "dataset = pd.read_csv('/content/MR data - Compiled Data Set.csv')"
      ],
      "execution_count": null,
      "outputs": []
    },
    {
      "cell_type": "code",
      "metadata": {
        "colab": {
          "base_uri": "https://localhost:8080/",
          "height": 206
        },
        "id": "dx2Q-q7gpwMu",
        "outputId": "001acffc-7361-4ff9-d401-533cf2a7ce08"
      },
      "source": [
        "dataset.head(5)"
      ],
      "execution_count": null,
      "outputs": [
        {
          "output_type": "execute_result",
          "data": {
            "text/html": [
              "<div>\n",
              "<style scoped>\n",
              "    .dataframe tbody tr th:only-of-type {\n",
              "        vertical-align: middle;\n",
              "    }\n",
              "\n",
              "    .dataframe tbody tr th {\n",
              "        vertical-align: top;\n",
              "    }\n",
              "\n",
              "    .dataframe thead th {\n",
              "        text-align: right;\n",
              "    }\n",
              "</style>\n",
              "<table border=\"1\" class=\"dataframe\">\n",
              "  <thead>\n",
              "    <tr style=\"text-align: right;\">\n",
              "      <th></th>\n",
              "      <th>a</th>\n",
              "      <th>b</th>\n",
              "      <th>c</th>\n",
              "      <th>d</th>\n",
              "      <th>e</th>\n",
              "      <th>f</th>\n",
              "      <th>g</th>\n",
              "      <th>h</th>\n",
              "      <th>i</th>\n",
              "      <th>j</th>\n",
              "      <th>k</th>\n",
              "    </tr>\n",
              "  </thead>\n",
              "  <tbody>\n",
              "    <tr>\n",
              "      <th>0</th>\n",
              "      <td>Ghaziabad</td>\n",
              "      <td>0</td>\n",
              "      <td>0.0</td>\n",
              "      <td>0.0</td>\n",
              "      <td>0.0</td>\n",
              "      <td>0.0</td>\n",
              "      <td>0.0</td>\n",
              "      <td>0.0</td>\n",
              "      <td>8,10</td>\n",
              "      <td>0.0</td>\n",
              "      <td>3.0</td>\n",
              "    </tr>\n",
              "    <tr>\n",
              "      <th>1</th>\n",
              "      <td>Ghaziabad</td>\n",
              "      <td>0</td>\n",
              "      <td>0.0</td>\n",
              "      <td>0.0</td>\n",
              "      <td>0.0</td>\n",
              "      <td>0.0</td>\n",
              "      <td>0.0</td>\n",
              "      <td>0.0</td>\n",
              "      <td>0</td>\n",
              "      <td>0.0</td>\n",
              "      <td>0.0</td>\n",
              "    </tr>\n",
              "    <tr>\n",
              "      <th>2</th>\n",
              "      <td>Ghaziabad</td>\n",
              "      <td>0</td>\n",
              "      <td>0.0</td>\n",
              "      <td>0.0</td>\n",
              "      <td>0.0</td>\n",
              "      <td>0.0</td>\n",
              "      <td>0.0</td>\n",
              "      <td>0.0</td>\n",
              "      <td>0</td>\n",
              "      <td>0.0</td>\n",
              "      <td>0.0</td>\n",
              "    </tr>\n",
              "    <tr>\n",
              "      <th>3</th>\n",
              "      <td>Ghaziabad</td>\n",
              "      <td>0</td>\n",
              "      <td>0.0</td>\n",
              "      <td>0.0</td>\n",
              "      <td>0.0</td>\n",
              "      <td>0.0</td>\n",
              "      <td>0.0</td>\n",
              "      <td>0.0</td>\n",
              "      <td>0</td>\n",
              "      <td>0.0</td>\n",
              "      <td>0.0</td>\n",
              "    </tr>\n",
              "    <tr>\n",
              "      <th>4</th>\n",
              "      <td>Ghaziabad</td>\n",
              "      <td>0</td>\n",
              "      <td>0.0</td>\n",
              "      <td>0.0</td>\n",
              "      <td>0.0</td>\n",
              "      <td>0.0</td>\n",
              "      <td>0.0</td>\n",
              "      <td>0.0</td>\n",
              "      <td>0</td>\n",
              "      <td>0.0</td>\n",
              "      <td>0.0</td>\n",
              "    </tr>\n",
              "  </tbody>\n",
              "</table>\n",
              "</div>"
            ],
            "text/plain": [
              "           a  b    c    d    e    f    g    h     i    j    k\n",
              "0  Ghaziabad  0  0.0  0.0  0.0  0.0  0.0  0.0  8,10  0.0  3.0\n",
              "1  Ghaziabad  0  0.0  0.0  0.0  0.0  0.0  0.0     0  0.0  0.0\n",
              "2  Ghaziabad  0  0.0  0.0  0.0  0.0  0.0  0.0     0  0.0  0.0\n",
              "3  Ghaziabad  0  0.0  0.0  0.0  0.0  0.0  0.0     0  0.0  0.0\n",
              "4  Ghaziabad  0  0.0  0.0  0.0  0.0  0.0  0.0     0  0.0  0.0"
            ]
          },
          "metadata": {},
          "execution_count": 20
        }
      ]
    },
    {
      "cell_type": "markdown",
      "metadata": {
        "id": "zpu_Bi2EtYzi"
      },
      "source": [
        "DELETING COLUMNS THAT ARE OF NO USE"
      ]
    },
    {
      "cell_type": "code",
      "metadata": {
        "id": "6AiijOG_tcDI"
      },
      "source": [
        "dataset = dataset.drop([\"Title\"],axis =1)\n",
        "dataset = dataset.drop([\"Text\"],axis=1)"
      ],
      "execution_count": null,
      "outputs": []
    },
    {
      "cell_type": "markdown",
      "metadata": {
        "id": "Kb9DiJxpu292"
      },
      "source": [
        "FILL ALL THE NULL VALUES WITH ZERO"
      ]
    },
    {
      "cell_type": "code",
      "metadata": {
        "id": "cYft8_oeubxl"
      },
      "source": [
        "dataset = dataset.fillna(0)\n"
      ],
      "execution_count": null,
      "outputs": []
    },
    {
      "cell_type": "code",
      "metadata": {
        "colab": {
          "base_uri": "https://localhost:8080/",
          "height": 300
        },
        "id": "i-aAMcb0vMZK",
        "outputId": "29d4529b-0776-4d61-952c-8e33034aa88c"
      },
      "source": [
        "dataset.describe()"
      ],
      "execution_count": null,
      "outputs": [
        {
          "output_type": "execute_result",
          "data": {
            "text/html": [
              "<div>\n",
              "<style scoped>\n",
              "    .dataframe tbody tr th:only-of-type {\n",
              "        vertical-align: middle;\n",
              "    }\n",
              "\n",
              "    .dataframe tbody tr th {\n",
              "        vertical-align: top;\n",
              "    }\n",
              "\n",
              "    .dataframe thead th {\n",
              "        text-align: right;\n",
              "    }\n",
              "</style>\n",
              "<table border=\"1\" class=\"dataframe\">\n",
              "  <thead>\n",
              "    <tr style=\"text-align: right;\">\n",
              "      <th></th>\n",
              "      <th>c</th>\n",
              "      <th>d</th>\n",
              "      <th>e</th>\n",
              "      <th>f</th>\n",
              "      <th>g</th>\n",
              "      <th>h</th>\n",
              "      <th>j</th>\n",
              "      <th>k</th>\n",
              "    </tr>\n",
              "  </thead>\n",
              "  <tbody>\n",
              "    <tr>\n",
              "      <th>count</th>\n",
              "      <td>466.000000</td>\n",
              "      <td>466.000000</td>\n",
              "      <td>466.000000</td>\n",
              "      <td>466.000000</td>\n",
              "      <td>466.000000</td>\n",
              "      <td>466.000000</td>\n",
              "      <td>466.000000</td>\n",
              "      <td>466.000000</td>\n",
              "    </tr>\n",
              "    <tr>\n",
              "      <th>mean</th>\n",
              "      <td>0.040773</td>\n",
              "      <td>0.221030</td>\n",
              "      <td>0.111588</td>\n",
              "      <td>0.027897</td>\n",
              "      <td>0.021459</td>\n",
              "      <td>0.006438</td>\n",
              "      <td>0.263948</td>\n",
              "      <td>0.201717</td>\n",
              "    </tr>\n",
              "    <tr>\n",
              "      <th>std</th>\n",
              "      <td>0.271298</td>\n",
              "      <td>0.521029</td>\n",
              "      <td>0.371563</td>\n",
              "      <td>0.200201</td>\n",
              "      <td>0.184247</td>\n",
              "      <td>0.080063</td>\n",
              "      <td>0.513337</td>\n",
              "      <td>0.461504</td>\n",
              "    </tr>\n",
              "    <tr>\n",
              "      <th>min</th>\n",
              "      <td>0.000000</td>\n",
              "      <td>0.000000</td>\n",
              "      <td>0.000000</td>\n",
              "      <td>0.000000</td>\n",
              "      <td>0.000000</td>\n",
              "      <td>0.000000</td>\n",
              "      <td>0.000000</td>\n",
              "      <td>0.000000</td>\n",
              "    </tr>\n",
              "    <tr>\n",
              "      <th>25%</th>\n",
              "      <td>0.000000</td>\n",
              "      <td>0.000000</td>\n",
              "      <td>0.000000</td>\n",
              "      <td>0.000000</td>\n",
              "      <td>0.000000</td>\n",
              "      <td>0.000000</td>\n",
              "      <td>0.000000</td>\n",
              "      <td>0.000000</td>\n",
              "    </tr>\n",
              "    <tr>\n",
              "      <th>50%</th>\n",
              "      <td>0.000000</td>\n",
              "      <td>0.000000</td>\n",
              "      <td>0.000000</td>\n",
              "      <td>0.000000</td>\n",
              "      <td>0.000000</td>\n",
              "      <td>0.000000</td>\n",
              "      <td>0.000000</td>\n",
              "      <td>0.000000</td>\n",
              "    </tr>\n",
              "    <tr>\n",
              "      <th>75%</th>\n",
              "      <td>0.000000</td>\n",
              "      <td>0.000000</td>\n",
              "      <td>0.000000</td>\n",
              "      <td>0.000000</td>\n",
              "      <td>0.000000</td>\n",
              "      <td>0.000000</td>\n",
              "      <td>0.000000</td>\n",
              "      <td>0.000000</td>\n",
              "    </tr>\n",
              "    <tr>\n",
              "      <th>max</th>\n",
              "      <td>3.000000</td>\n",
              "      <td>7.000000</td>\n",
              "      <td>4.000000</td>\n",
              "      <td>3.000000</td>\n",
              "      <td>3.000000</td>\n",
              "      <td>1.000000</td>\n",
              "      <td>5.000000</td>\n",
              "      <td>3.000000</td>\n",
              "    </tr>\n",
              "  </tbody>\n",
              "</table>\n",
              "</div>"
            ],
            "text/plain": [
              "                c           d           e  ...           h           j           k\n",
              "count  466.000000  466.000000  466.000000  ...  466.000000  466.000000  466.000000\n",
              "mean     0.040773    0.221030    0.111588  ...    0.006438    0.263948    0.201717\n",
              "std      0.271298    0.521029    0.371563  ...    0.080063    0.513337    0.461504\n",
              "min      0.000000    0.000000    0.000000  ...    0.000000    0.000000    0.000000\n",
              "25%      0.000000    0.000000    0.000000  ...    0.000000    0.000000    0.000000\n",
              "50%      0.000000    0.000000    0.000000  ...    0.000000    0.000000    0.000000\n",
              "75%      0.000000    0.000000    0.000000  ...    0.000000    0.000000    0.000000\n",
              "max      3.000000    7.000000    4.000000  ...    1.000000    5.000000    3.000000\n",
              "\n",
              "[8 rows x 8 columns]"
            ]
          },
          "metadata": {},
          "execution_count": 18
        }
      ]
    },
    {
      "cell_type": "markdown",
      "metadata": {
        "id": "QPSt2XkdvjYP"
      },
      "source": [
        "CHANGING THE COLUMN HEADERS FOR CONVINIENCE "
      ]
    },
    {
      "cell_type": "code",
      "metadata": {
        "id": "KJ2f2f_nyeSm"
      },
      "source": [
        "dataset.columns = [\"a\",\"b\",\"c\",\"d\",\"e\",\"f\",\"g\",\"h\",\"i\",\"j\",\"k\"]"
      ],
      "execution_count": null,
      "outputs": []
    },
    {
      "cell_type": "code",
      "metadata": {
        "colab": {
          "base_uri": "https://localhost:8080/"
        },
        "id": "_YnBdfU3zU1G",
        "outputId": "d20e2617-79c5-434d-fbdb-b97e28850667"
      },
      "source": [
        "print(dataset.info())"
      ],
      "execution_count": null,
      "outputs": [
        {
          "output_type": "stream",
          "name": "stdout",
          "text": [
            "<class 'pandas.core.frame.DataFrame'>\n",
            "RangeIndex: 466 entries, 0 to 465\n",
            "Data columns (total 11 columns):\n",
            " #   Column  Non-Null Count  Dtype  \n",
            "---  ------  --------------  -----  \n",
            " 0   a       466 non-null    object \n",
            " 1   b       466 non-null    object \n",
            " 2   c       466 non-null    float64\n",
            " 3   d       466 non-null    float64\n",
            " 4   e       466 non-null    float64\n",
            " 5   f       466 non-null    float64\n",
            " 6   g       466 non-null    float64\n",
            " 7   h       466 non-null    float64\n",
            " 8   i       466 non-null    object \n",
            " 9   j       466 non-null    float64\n",
            " 10  k       466 non-null    float64\n",
            "dtypes: float64(8), object(3)\n",
            "memory usage: 40.2+ KB\n",
            "None\n"
          ]
        }
      ]
    },
    {
      "cell_type": "markdown",
      "metadata": {
        "id": "cMGPCnOZza03"
      },
      "source": [
        "CITY WISE CRIME ANALYSIS"
      ]
    },
    {
      "cell_type": "code",
      "metadata": {
        "colab": {
          "base_uri": "https://localhost:8080/"
        },
        "id": "B5JieAup48d2",
        "outputId": "41e22faf-4bdb-44ed-813d-7d2f60dd4e2d"
      },
      "source": [
        "city.head()"
      ],
      "execution_count": null,
      "outputs": [
        {
          "output_type": "execute_result",
          "data": {
            "text/plain": [
              "Lucknow      202\n",
              "Ghaziabad    167\n",
              "Kanpur        97\n",
              "Name: a, dtype: int64"
            ]
          },
          "metadata": {},
          "execution_count": 24
        }
      ]
    },
    {
      "cell_type": "code",
      "metadata": {
        "colab": {
          "base_uri": "https://localhost:8080/"
        },
        "id": "owmVqDfAzeg7",
        "outputId": "39828c41-2ce9-45da-e7a4-f31e6c243c6b"
      },
      "source": [
        "city = dataset[\"a\"].value_counts()\n",
        "print(city)"
      ],
      "execution_count": null,
      "outputs": [
        {
          "output_type": "stream",
          "name": "stdout",
          "text": [
            "Lucknow      202\n",
            "Ghaziabad    167\n",
            "Kanpur        97\n",
            "Name: a, dtype: int64\n"
          ]
        }
      ]
    },
    {
      "cell_type": "code",
      "metadata": {
        "colab": {
          "base_uri": "https://localhost:8080/",
          "height": 143
        },
        "id": "sSuBEWiw0PQq",
        "outputId": "a59efc1a-0dab-4a6d-bbc8-4c0f2e5637d5"
      },
      "source": [
        "#converting data into dataframe\n",
        "city = pd.DataFrame({\"Cities\": city.index,\"No of cases\": city.values})\n",
        "city.head()\n"
      ],
      "execution_count": null,
      "outputs": [
        {
          "output_type": "execute_result",
          "data": {
            "text/html": [
              "<div>\n",
              "<style scoped>\n",
              "    .dataframe tbody tr th:only-of-type {\n",
              "        vertical-align: middle;\n",
              "    }\n",
              "\n",
              "    .dataframe tbody tr th {\n",
              "        vertical-align: top;\n",
              "    }\n",
              "\n",
              "    .dataframe thead th {\n",
              "        text-align: right;\n",
              "    }\n",
              "</style>\n",
              "<table border=\"1\" class=\"dataframe\">\n",
              "  <thead>\n",
              "    <tr style=\"text-align: right;\">\n",
              "      <th></th>\n",
              "      <th>Cities</th>\n",
              "      <th>No of cases</th>\n",
              "    </tr>\n",
              "  </thead>\n",
              "  <tbody>\n",
              "    <tr>\n",
              "      <th>0</th>\n",
              "      <td>Lucknow</td>\n",
              "      <td>202</td>\n",
              "    </tr>\n",
              "    <tr>\n",
              "      <th>1</th>\n",
              "      <td>Ghaziabad</td>\n",
              "      <td>167</td>\n",
              "    </tr>\n",
              "    <tr>\n",
              "      <th>2</th>\n",
              "      <td>Kanpur</td>\n",
              "      <td>97</td>\n",
              "    </tr>\n",
              "  </tbody>\n",
              "</table>\n",
              "</div>"
            ],
            "text/plain": [
              "      Cities  No of cases\n",
              "0    Lucknow          202\n",
              "1  Ghaziabad          167\n",
              "2     Kanpur           97"
            ]
          },
          "metadata": {},
          "execution_count": 37
        }
      ]
    },
    {
      "cell_type": "code",
      "metadata": {
        "colab": {
          "base_uri": "https://localhost:8080/",
          "height": 279
        },
        "id": "9MC3_sH0_O5r",
        "outputId": "5a83c189-206a-4cc8-894b-217d4cf3c746"
      },
      "source": [
        "#plotting\n",
        "a = city.plot.bar(x = 'Cities', y = 'No of cases', rot = 0)"
      ],
      "execution_count": null,
      "outputs": [
        {
          "output_type": "display_data",
          "data": {
            "image/png": "[encoded data removed]",
            "text/plain": [
              "<Figure size 432x288 with 1 Axes>"
            ]
          },
          "metadata": {
            "needs_background": "light"
          }
        }
      ]
    },
    {
      "cell_type": "markdown",
      "metadata": {
        "id": "BMvaNs0W_s9Z"
      },
      "source": [
        "Reason for murder\n"
      ]
    },
    {
      "cell_type": "code",
      "metadata": {
        "colab": {
          "base_uri": "https://localhost:8080/"
        },
        "id": "zidZZ0nG_vGC",
        "outputId": "310d8d60-2749-4220-a9e8-ef488f67b409"
      },
      "source": [
        "#finding the number of cases for each reason\n",
        "reason = dataset['b'].value_counts()\n",
        "print(reason)"
      ],
      "execution_count": null,
      "outputs": [
        {
          "output_type": "stream",
          "name": "stdout",
          "text": [
            "0                    319\n",
            "Unknown reasons       40\n",
            "Love Affairs          30\n",
            "Petty Quarrels        19\n",
            "Personal Vendetta     16\n",
            "Family Dispute        16\n",
            "Money Disputes        14\n",
            "Property Disputes     10\n",
            "Casteism               2\n",
            "Name: b, dtype: int64\n"
          ]
        }
      ]
    },
    {
      "cell_type": "code",
      "metadata": {
        "id": "v137mNpvAP5k"
      },
      "source": [
        "#coverting data into dataframe\n",
        "reason = pd.DataFrame({\"Reason\": reason.index, \"No of cases\": reason.values})"
      ],
      "execution_count": null,
      "outputs": []
    },
    {
      "cell_type": "code",
      "metadata": {
        "colab": {
          "base_uri": "https://localhost:8080/"
        },
        "id": "jcQonxcUAxiW",
        "outputId": "a51478d8-bacf-4a46-b7f0-3d8b1456af13"
      },
      "source": [
        "print(reason)"
      ],
      "execution_count": null,
      "outputs": [
        {
          "output_type": "stream",
          "name": "stdout",
          "text": [
            "              Reason  No of cases\n",
            "1    Unknown reasons           40\n",
            "2       Love Affairs           30\n",
            "3     Petty Quarrels           19\n",
            "4  Personal Vendetta           16\n",
            "5     Family Dispute           16\n",
            "6     Money Disputes           14\n",
            "7  Property Disputes           10\n",
            "8           Casteism            2\n"
          ]
        }
      ]
    },
    {
      "cell_type": "code",
      "metadata": {
        "id": "qFDmwIB5A7H3"
      },
      "source": [
        "reason = reason.drop(index=0)"
      ],
      "execution_count": null,
      "outputs": []
    },
    {
      "cell_type": "code",
      "metadata": {
        "colab": {
          "base_uri": "https://localhost:8080/",
          "height": 541
        },
        "id": "9uQUgF7fBCY_",
        "outputId": "b6b8a2af-930e-4c15-d29c-494caadeb1f7"
      },
      "source": [
        "#plotting the graph(\n",
        "b = reason.plot.bar(x = \"Reason\", y =\"No of cases\", rot = 30, figsize=(10,8))"
      ],
      "execution_count": null,
      "outputs": [
        {
          "output_type": "display_data",
          "data": {
            "image/png": "[encoded data removed]",
            "text/plain": [
              "<Figure size 720x576 with 1 Axes>"
            ]
          },
          "metadata": {
            "needs_background": "light"
          }
        }
      ]
    },
    {
      "cell_type": "code",
      "metadata": {
        "id": "wmoeCwDbDnXi"
      },
      "source": [
        "#loading the dataset into the pandas dataset \n",
        "dataset_reference = pd.read_csv('/content/MR data - Compiled Data Set.csv')"
      ],
      "execution_count": null,
      "outputs": []
    },
    {
      "cell_type": "code",
      "metadata": {
        "colab": {
          "base_uri": "https://localhost:8080/",
          "height": 1000
        },
        "id": "PvYcMwdLDqFr",
        "outputId": "3dfc9357-7cac-4c6f-e3a9-ee9a1cf517ef"
      },
      "source": [
        "dataset_reference.head(5)"
      ],
      "execution_count": null,
      "outputs": [
        {
          "output_type": "execute_result",
          "data": {
            "text/html": [
              "<div>\n",
              "<style scoped>\n",
              "    .dataframe tbody tr th:only-of-type {\n",
              "        vertical-align: middle;\n",
              "    }\n",
              "\n",
              "    .dataframe tbody tr th {\n",
              "        vertical-align: top;\n",
              "    }\n",
              "\n",
              "    .dataframe thead th {\n",
              "        text-align: right;\n",
              "    }\n",
              "</style>\n",
              "<table border=\"1\" class=\"dataframe\">\n",
              "  <thead>\n",
              "    <tr style=\"text-align: right;\">\n",
              "      <th></th>\n",
              "      <th>City</th>\n",
              "      <th>Title</th>\n",
              "      <th>Text</th>\n",
              "      <th>Murder Happened with reason:\\n1:Property/Land Disputes,\\n2:Family Dispute\\n3:Petty Quarrels,\\n4:Money Disputes, \\n5:Personal Vendetta, \\n6:Love Affairs, \\n7:Casteism\\n8: Unknown/other</th>\n",
              "      <th>Number of child victims</th>\n",
              "      <th>Number of male victims(adult)</th>\n",
              "      <th>Number of female victims(adult)</th>\n",
              "      <th>Kidnnaping:\\nNumber of child victims</th>\n",
              "      <th>Number of male(adult)</th>\n",
              "      <th>Number of female(adult)</th>\n",
              "      <th>Crime Against Women ( Combined ):\\n1. Murder with Rape \\n2. Dowry Deaths(Sec. 3048)\\n3. Suicide(sec 305/306)\\n4. Kidnapping(All)\\n5. Acid Attack(Sec. 326A IPC)\\n6. Cruelty by Husband/in-laws((Sec.498 A IPC)\\n7. Rape only(Sec. 376 or 511 IPC)\\n8. Assault on Women with Intent to Outrage her Modesty (Sec. 354 IPC)\\n9. Cyber Crimes against Women\\n10. Protection of Children from Sexual Offences Act</th>\n",
              "      <th>Number of adult victims</th>\n",
              "      <th>Number of childs invoved</th>\n",
              "    </tr>\n",
              "  </thead>\n",
              "  <tbody>\n",
              "    <tr>\n",
              "      <th>0</th>\n",
              "      <td>Ghaziabad</td>\n",
              "      <td>Minor molests mute girl, sent to observation home</td>\n",
              "      <td>GHAZIABAD: A 12-year-old boy was sent to an ob...</td>\n",
              "      <td>NaN</td>\n",
              "      <td>NaN</td>\n",
              "      <td>NaN</td>\n",
              "      <td>NaN</td>\n",
              "      <td>NaN</td>\n",
              "      <td>NaN</td>\n",
              "      <td>NaN</td>\n",
              "      <td>8,10</td>\n",
              "      <td>NaN</td>\n",
              "      <td>3.0</td>\n",
              "    </tr>\n",
              "    <tr>\n",
              "      <th>1</th>\n",
              "      <td>Ghaziabad</td>\n",
              "      <td>Family out to buy car robbed of Rs 1 lakh by b...</td>\n",
              "      <td>GHAZIABAD: A family that had visited an automo...</td>\n",
              "      <td>NaN</td>\n",
              "      <td>NaN</td>\n",
              "      <td>NaN</td>\n",
              "      <td>NaN</td>\n",
              "      <td>NaN</td>\n",
              "      <td>NaN</td>\n",
              "      <td>NaN</td>\n",
              "      <td>NaN</td>\n",
              "      <td>NaN</td>\n",
              "      <td>NaN</td>\n",
              "    </tr>\n",
              "    <tr>\n",
              "      <th>2</th>\n",
              "      <td>Ghaziabad</td>\n",
              "      <td>This gang posed as cops to extort youths, couples</td>\n",
              "      <td>GHAZIABAD: Five persons were arrested on Monda...</td>\n",
              "      <td>NaN</td>\n",
              "      <td>NaN</td>\n",
              "      <td>NaN</td>\n",
              "      <td>NaN</td>\n",
              "      <td>NaN</td>\n",
              "      <td>NaN</td>\n",
              "      <td>NaN</td>\n",
              "      <td>NaN</td>\n",
              "      <td>NaN</td>\n",
              "      <td>NaN</td>\n",
              "    </tr>\n",
              "    <tr>\n",
              "      <th>3</th>\n",
              "      <td>Ghaziabad</td>\n",
              "      <td>Residents object to loud music, thrashed in Gh...</td>\n",
              "      <td>Ghaziabad: Four tenants, including two soldier...</td>\n",
              "      <td>NaN</td>\n",
              "      <td>NaN</td>\n",
              "      <td>NaN</td>\n",
              "      <td>NaN</td>\n",
              "      <td>NaN</td>\n",
              "      <td>NaN</td>\n",
              "      <td>NaN</td>\n",
              "      <td>NaN</td>\n",
              "      <td>NaN</td>\n",
              "      <td>NaN</td>\n",
              "    </tr>\n",
              "    <tr>\n",
              "      <th>4</th>\n",
              "      <td>Ghaziabad</td>\n",
              "      <td>Man kills self after being refused money for d...</td>\n",
              "      <td>GHAZIABAD: A 25-year-old allegedly committed s...</td>\n",
              "      <td>NaN</td>\n",
              "      <td>NaN</td>\n",
              "      <td>NaN</td>\n",
              "      <td>NaN</td>\n",
              "      <td>NaN</td>\n",
              "      <td>NaN</td>\n",
              "      <td>NaN</td>\n",
              "      <td>NaN</td>\n",
              "      <td>NaN</td>\n",
              "      <td>NaN</td>\n",
              "    </tr>\n",
              "  </tbody>\n",
              "</table>\n",
              "</div>"
            ],
            "text/plain": [
              "       City   ... Number of childs invoved\n",
              "0  Ghaziabad  ...                      3.0\n",
              "1  Ghaziabad  ...                      NaN\n",
              "2  Ghaziabad  ...                      NaN\n",
              "3  Ghaziabad  ...                      NaN\n",
              "4  Ghaziabad  ...                      NaN\n",
              "\n",
              "[5 rows x 13 columns]"
            ]
          },
          "metadata": {},
          "execution_count": 51
        }
      ]
    },
    {
      "cell_type": "markdown",
      "metadata": {
        "id": "ZcyQOwc6Ebyv"
      },
      "source": [
        "CRIME AGAINST WOMEN"
      ]
    },
    {
      "cell_type": "code",
      "metadata": {
        "id": "6v1yQ-mZEenb"
      },
      "source": [
        "\n",
        "\n",
        "#remove the value from the list if it is zero\n",
        "crimes_list = dataset[\"i\"].tolist()\n",
        "crimes_list= [i for i in crimes_list if i!= 0]"
      ],
      "execution_count": null,
      "outputs": []
    },
    {
      "cell_type": "code",
      "metadata": {
        "colab": {
          "base_uri": "https://localhost:8080/"
        },
        "id": "4SpY1nYoSKGb",
        "outputId": "22395b71-d4ec-4ac2-bab7-83654d95de95"
      },
      "source": [
        "print(crimes_list)"
      ],
      "execution_count": null,
      "outputs": [
        {
          "output_type": "stream",
          "name": "stdout",
          "text": [
            "['8,10', '10', '9', '9', '4,7', '4', '7', '1,10', '1,10', '8', '3', '7,10', '7,10', '3', '8', '2,3,6', '7', '6', '8', '7', '8', '8', '7', '8', '1,4,10', '2', '2', '2', '5,6', '3', '8', '6', '2', '9', '8', '2', '1, 10', '7,10', '7', '2', '2,3,6', '7,10', '2,3,6', '7,10', '5', '7,10', '8', '7,10', '2,3,6', '7', '6', '2', '2', '8', '6', '7', '7', '8', '8', '8, 10', '8', '6', '11', '8, 10', '7', '2,3', '10', '2', '8', '7,9', '6', '3', '3', '3,7,10', '7,10', '3', '5', '1,10', '7,9', '8,10', '7, 10', '7, 10', '7', '2,6', '8', '1', '7,10', '7,10', '7', '1', '2,6', '7, 10', '8, 10', '8', '8, 10', '8, 10', '7, 10', '8', '2', '11', '11', '3', '2', '4,8', '1', '10', '1', '3,7', '7, 10', '7', '7,10', '1', '7,10', '7,10', '7,10', '1', '9', '3,8', '2,6', '7,8', '1', '1,4', '7', '7,10', '8', '3', '4,7', '6', '8', '8', '8', '3', '3', '8', '3,8', '7', '3', '7,10', '3,8', '3', '8', '8, 10', '6, 8', '7,10', '3', '7,10', '3', '4,7,10', '8,9', '7', '7,8', '1, 10', '8', '8', '8', '7, 10', '8', '7, 10', '7', '8', '8', '6', '8', '6', '10', '7, 10', '8', '8', '7', '6', '8', '6', '6', '6', '8, 10', '1, 10', '8', '10', '9', '8', '9', '8', '1', '8', '8', '8', '8', '8', '8', '1', '9', '8', '8', '7', '1', '7', '7', '1', '3,8', '8']\n"
          ]
        }
      ]
    },
    {
      "cell_type": "code",
      "metadata": {
        "id": "tq9EOZbOUW3R"
      },
      "source": [
        "#split all the pairs and add them to the list\n",
        "crimes = []\n",
        "for i in crimes_list:\n",
        "  if ',' in i:\n",
        "    k=i.split(',')\n",
        "    temp =[]\n",
        "    for j in k:\n",
        "      temp.append(int(j))\n",
        "    crimes.append(temp)\n",
        "  else:\n",
        "    crimes.append(int(i))"
      ],
      "execution_count": null,
      "outputs": []
    },
    {
      "cell_type": "code",
      "metadata": {
        "colab": {
          "base_uri": "https://localhost:8080/"
        },
        "id": "ABq6O4aVUYcw",
        "outputId": "d108a14b-6e9d-4961-ec24-95a8be5e0fbe"
      },
      "source": [
        "print(crimes)"
      ],
      "execution_count": null,
      "outputs": [
        {
          "output_type": "stream",
          "name": "stdout",
          "text": [
            "[[8, 10], 10, 9, 9, [4, 7], 4, 7, [1, 10], [1, 10], 8, 3, [7, 10], [7, 10], 3, 8, [2, 3, 6], 7, 6, 8, 7, 8, 8, 7, 8, [1, 4, 10], 2, 2, 2, [5, 6], 3, 8, 6, 2, 9, 8, 2, [1, 10], [7, 10], 7, 2, [2, 3, 6], [7, 10], [2, 3, 6], [7, 10], 5, [7, 10], 8, [7, 10], [2, 3, 6], 7, 6, 2, 2, 8, 6, 7, 7, 8, 8, [8, 10], 8, 6, 11, [8, 10], 7, [2, 3], 10, 2, 8, [7, 9], 6, 3, 3, [3, 7, 10], [7, 10], 3, 5, [1, 10], [7, 9], [8, 10], [7, 10], [7, 10], 7, [2, 6], 8, 1, [7, 10], [7, 10], 7, 1, [2, 6], [7, 10], [8, 10], 8, [8, 10], [8, 10], [7, 10], 8, 2, 11, 11, 3, 2, [4, 8], 1, 10, 1, [3, 7], [7, 10], 7, [7, 10], 1, [7, 10], [7, 10], [7, 10], 1, 9, [3, 8], [2, 6], [7, 8], 1, [1, 4], 7, [7, 10], 8, 3, [4, 7], 6, 8, 8, 8, 3, 3, 8, [3, 8], 7, 3, [7, 10], [3, 8], 3, 8, [8, 10], [6, 8], [7, 10], 3, [7, 10], 3, [4, 7, 10], [8, 9], 7, [7, 8], [1, 10], 8, 8, 8, [7, 10], 8, [7, 10], 7, 8, 8, 6, 8, 6, 10, [7, 10], 8, 8, 7, 6, 8, 6, 6, 6, [8, 10], [1, 10], 8, 10, 9, 8, 9, 8, 1, 8, 8, 8, 8, 8, 8, 1, 9, 8, 8, 7, 1, 7, 7, 1, [3, 8], 8]\n"
          ]
        }
      ]
    },
    {
      "cell_type": "code",
      "metadata": {
        "colab": {
          "base_uri": "https://localhost:8080/"
        },
        "id": "8mzNjOIcUmJU",
        "outputId": "67e163eb-a377-400c-ef25-57b8ab852e28"
      },
      "source": [
        "#li contains the no.of crimes commited against women divided act-wise\n",
        "li = 11*[0]\n",
        "\n",
        "for i in crimes:\n",
        "  if type(i) == list:\n",
        "    for j in i:\n",
        "      li[j-1]= li[j-1]+1\n",
        "  else:\n",
        "    li[i-1]= li[i-1]+1\n",
        "      \n",
        "print(li)\n",
        "\n",
        "print(range(len(li)))\n",
        "\n"
      ],
      "execution_count": null,
      "outputs": [
        {
          "output_type": "stream",
          "name": "stdout",
          "text": [
            "[19, 19, 25, 7, 3, 22, 55, 63, 10, 49, 3]\n",
            "range(0, 11)\n"
          ]
        }
      ]
    },
    {
      "cell_type": "code",
      "metadata": {
        "colab": {
          "base_uri": "https://localhost:8080/"
        },
        "id": "Xm_L467upK1q",
        "outputId": "3a3b1be0-8b31-420e-8538-2711cdb455e0"
      },
      "source": [
        "print(li)\n",
        "print(len(li))"
      ],
      "execution_count": null,
      "outputs": [
        {
          "output_type": "stream",
          "name": "stdout",
          "text": [
            "[19, 19, 25, 7, 3, 22, 55, 63, 10, 49, 3]\n",
            "11\n"
          ]
        }
      ]
    },
    {
      "cell_type": "code",
      "metadata": {
        "colab": {
          "base_uri": "https://localhost:8080/",
          "height": 312
        },
        "id": "WVLgGoSsqYoV",
        "outputId": "8b1b59ba-99dc-480e-af8d-8b0782500194"
      },
      "source": [
        "x=[]\n",
        "for i in range(len(li)):\n",
        "  x.append(i+1)\n",
        "plt.bar(x,li)\n",
        "plt.xlabel('Act')\n",
        "plt.ylabel('No.of cases')\n",
        "plt.title('Crimes commited againt women')\n",
        "plt.show()\n",
        "\n",
        "print(x)"
      ],
      "execution_count": null,
      "outputs": [
        {
          "output_type": "display_data",
          "data": {
            "image/png": "[encoded data removed]",
            "text/plain": [
              "<Figure size 432x288 with 1 Axes>"
            ]
          },
          "metadata": {
            "needs_background": "light"
          }
        },
        {
          "output_type": "stream",
          "name": "stdout",
          "text": [
            "[1, 2, 3, 4, 5, 6, 7, 8, 9, 10, 11]\n"
          ]
        }
      ]
    }
  ]
}